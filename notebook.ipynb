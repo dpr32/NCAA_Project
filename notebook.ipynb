{
  "cells": [
    {
      "metadata": {
        "_cell_guid": "c7951eab-a921-4d5c-b558-f143473efd38",
        "_uuid": "60c2a09690b53cdd7454b9fb172f2c0b9ddc2996",
        "collapsed": true
      },
      "cell_type": "markdown",
      "source": "**Predict NCAA Basketball 2018\n**\n\nHere we will use Logistic Regression to predict the outcomes of every possible matchup in the 2018 March Madness basketball tournament.  Our classifier will make its decision based off of the values for 17 features.  One important feature is a ranking metric called ELO ([Link #1](https://en.wikipedia.org/wiki/Elo_rating_system), [Link #2](https://fivethirtyeight.com/features/how-we-calculate-nba-elo-ratings/)) while the remaining 16 features are traditional basketball metrics (described below).  Note that many functions are adapted from [this solution]( https://github.com/harvitronix/kaggle-march-madness-machine-learning) from 2016."
    },
    {
      "metadata": {
        "_cell_guid": "4693c0a6-4243-4320-bb98-88732356c71b",
        "_uuid": "e9a9993117363c51ef08e7d51cd239f161393484"
      },
      "cell_type": "markdown",
      "source": "*Step 1: Import Libraries*"
    },
    {
      "metadata": {
        "_cell_guid": "93adb402-ca1e-4534-be3a-35260010361e",
        "_kg_hide-input": true,
        "_uuid": "acd93a0e33f4f9c8f5e313492ae2f8df910f0c14",
        "trusted": true
      },
      "cell_type": "code",
      "source": "import pandas as pd\nimport numpy\nimport math\nimport csv\nimport random\nfrom sklearn import cross_validation, linear_model, model_selection\nfrom sklearn.metrics import make_scorer, accuracy_score\nfrom sklearn.model_selection import train_test_split, GridSearchCV",
      "execution_count": 1,
      "outputs": [
        {
          "name": "stderr",
          "output_type": "stream",
          "text": "/opt/conda/lib/python3.6/site-packages/sklearn/cross_validation.py:41: DeprecationWarning: This module was deprecated in version 0.18 in favor of the model_selection module into which all the refactored classes and functions are moved. Also note that the interface of the new CV iterators are different from that of this module. This module will be removed in 0.20.\n  \"This module will be removed in 0.20.\", DeprecationWarning)\n"
        }
      ]
    },
    {
      "metadata": {
        "collapsed": true,
        "trusted": true,
        "_uuid": "1e2c9f34bcb34be24469f2ca2e9cc2fca9beac9d"
      },
      "cell_type": "code",
      "source": "",
      "execution_count": null,
      "outputs": []
    },
    {
      "metadata": {
        "_cell_guid": "76f46070-668a-44b6-8033-79f7db9611b1",
        "_uuid": "4927b52856117e8a803080c645e100e35f1d39fe"
      },
      "cell_type": "markdown",
      "source": "*Step 2: Load Data*"
    },
    {
      "metadata": {
        "_cell_guid": "e22858dc-fd16-417f-9e30-b829041a7a66",
        "_kg_hide-input": true,
        "_uuid": "18421faddf92660abe439e93359529eeb64d7819",
        "trusted": true
      },
      "cell_type": "code",
      "source": "folder = '../input'\nseason_data = pd.read_csv(folder + '/mens-machine-learning-competition-2018/RegularSeasonDetailedResults.csv')\ntourney_data = pd.read_csv(folder + '/mens-machine-learning-competition-2018/NCAATourneyDetailedResults.csv')\nseeds = pd.read_csv(folder + '/mens-machine-learning-competition-2018/NCAATourneySeeds.csv')\nframes = [season_data, tourney_data]\nall_data = pd.concat(frames)\nstat_fields = ['score', 'fga', 'fgp', 'fga3', '3pp', 'ftp', 'or', 'dr',\n                   'ast', 'to', 'stl', 'blk', 'pf']\nprediction_year = 2018\nbase_elo = 1600\nteam_elos = {}\nteam_stats = {}\nX = []\ny = []\nsubmission_data = []\ndef initialize_data():\n    for i in range(1985, prediction_year+1):\n        team_elos[i] = {}\n        team_stats[i] = {}\ninitialize_data()",
      "execution_count": 10,
      "outputs": [
        {
          "output_type": "error",
          "ename": "FileNotFoundError",
          "evalue": "[Errno 2] No such file or directory: 'c:/temp/test.txt'",
          "traceback": [
            "\u001b[0;31m---------------------------------------------------------------------------\u001b[0m",
            "\u001b[0;31mFileNotFoundError\u001b[0m                         Traceback (most recent call last)",
            "\u001b[0;32m<ipython-input-10-9f54c7037464>\u001b[0m in \u001b[0;36m<module>\u001b[0;34m()\u001b[0m\n\u001b[1;32m      1\u001b[0m \u001b[0mtest\u001b[0m \u001b[0;34m=\u001b[0m \u001b[0;34m'c:/temp/test.txt'\u001b[0m\u001b[0;34m\u001b[0m\u001b[0m\n\u001b[0;32m----> 2\u001b[0;31m \u001b[0mfile_obt\u001b[0m \u001b[0;34m=\u001b[0m \u001b[0mopen\u001b[0m\u001b[0;34m(\u001b[0m\u001b[0;34m'c:/temp/test.txt'\u001b[0m\u001b[0;34m,\u001b[0m\u001b[0;34m'r'\u001b[0m\u001b[0;34m)\u001b[0m\u001b[0;34m\u001b[0m\u001b[0m\n\u001b[0m\u001b[1;32m      3\u001b[0m \u001b[0mprint\u001b[0m \u001b[0;34m(\u001b[0m\u001b[0mfile_obt\u001b[0m\u001b[0;34m)\u001b[0m\u001b[0;34m\u001b[0m\u001b[0m\n\u001b[1;32m      4\u001b[0m \u001b[0;34m\u001b[0m\u001b[0m\n\u001b[1;32m      5\u001b[0m \u001b[0mfolder\u001b[0m \u001b[0;34m=\u001b[0m \u001b[0;34m'../input'\u001b[0m\u001b[0;34m\u001b[0m\u001b[0m\n",
            "\u001b[0;31mFileNotFoundError\u001b[0m: [Errno 2] No such file or directory: 'c:/temp/test.txt'"
          ]
        }
      ]
    },
    {
      "metadata": {
        "_cell_guid": "adc2c7b4-8aff-475a-a850-48b92a0768e6",
        "_uuid": "9a49ed1e4e8daea594b95d0b8e73abb31e2f5644"
      },
      "cell_type": "markdown",
      "source": "*Step 3: Explore Data*"
    },
    {
      "metadata": {
        "_cell_guid": "594009c2-de09-4415-b1c8-fd204e7a8911",
        "_uuid": "19fb16823ca1f41babb8e64111f5cc8ec982d1ee",
        "trusted": true
      },
      "cell_type": "code",
      "source": "all_data.head(10)",
      "execution_count": 3,
      "outputs": [
        {
          "data": {
            "text/html": "<div>\n<style scoped>\n    .dataframe tbody tr th:only-of-type {\n        vertical-align: middle;\n    }\n\n    .dataframe tbody tr th {\n        vertical-align: top;\n    }\n\n    .dataframe thead th {\n        text-align: right;\n    }\n</style>\n<table border=\"1\" class=\"dataframe\">\n  <thead>\n    <tr style=\"text-align: right;\">\n      <th></th>\n      <th>Season</th>\n      <th>DayNum</th>\n      <th>WTeamID</th>\n      <th>WScore</th>\n      <th>LTeamID</th>\n      <th>LScore</th>\n      <th>WLoc</th>\n      <th>NumOT</th>\n      <th>WFGM</th>\n      <th>WFGA</th>\n      <th>...</th>\n      <th>LFGA3</th>\n      <th>LFTM</th>\n      <th>LFTA</th>\n      <th>LOR</th>\n      <th>LDR</th>\n      <th>LAst</th>\n      <th>LTO</th>\n      <th>LStl</th>\n      <th>LBlk</th>\n      <th>LPF</th>\n    </tr>\n  </thead>\n  <tbody>\n    <tr>\n      <th>0</th>\n      <td>2003</td>\n      <td>10</td>\n      <td>1104</td>\n      <td>68</td>\n      <td>1328</td>\n      <td>62</td>\n      <td>N</td>\n      <td>0</td>\n      <td>27</td>\n      <td>58</td>\n      <td>...</td>\n      <td>10</td>\n      <td>16</td>\n      <td>22</td>\n      <td>10</td>\n      <td>22</td>\n      <td>8</td>\n      <td>18</td>\n      <td>9</td>\n      <td>2</td>\n      <td>20</td>\n    </tr>\n    <tr>\n      <th>1</th>\n      <td>2003</td>\n      <td>10</td>\n      <td>1272</td>\n      <td>70</td>\n      <td>1393</td>\n      <td>63</td>\n      <td>N</td>\n      <td>0</td>\n      <td>26</td>\n      <td>62</td>\n      <td>...</td>\n      <td>24</td>\n      <td>9</td>\n      <td>20</td>\n      <td>20</td>\n      <td>25</td>\n      <td>7</td>\n      <td>12</td>\n      <td>8</td>\n      <td>6</td>\n      <td>16</td>\n    </tr>\n    <tr>\n      <th>2</th>\n      <td>2003</td>\n      <td>11</td>\n      <td>1266</td>\n      <td>73</td>\n      <td>1437</td>\n      <td>61</td>\n      <td>N</td>\n      <td>0</td>\n      <td>24</td>\n      <td>58</td>\n      <td>...</td>\n      <td>26</td>\n      <td>14</td>\n      <td>23</td>\n      <td>31</td>\n      <td>22</td>\n      <td>9</td>\n      <td>12</td>\n      <td>2</td>\n      <td>5</td>\n      <td>23</td>\n    </tr>\n    <tr>\n      <th>3</th>\n      <td>2003</td>\n      <td>11</td>\n      <td>1296</td>\n      <td>56</td>\n      <td>1457</td>\n      <td>50</td>\n      <td>N</td>\n      <td>0</td>\n      <td>18</td>\n      <td>38</td>\n      <td>...</td>\n      <td>22</td>\n      <td>8</td>\n      <td>15</td>\n      <td>17</td>\n      <td>20</td>\n      <td>9</td>\n      <td>19</td>\n      <td>4</td>\n      <td>3</td>\n      <td>23</td>\n    </tr>\n    <tr>\n      <th>4</th>\n      <td>2003</td>\n      <td>11</td>\n      <td>1400</td>\n      <td>77</td>\n      <td>1208</td>\n      <td>71</td>\n      <td>N</td>\n      <td>0</td>\n      <td>30</td>\n      <td>61</td>\n      <td>...</td>\n      <td>16</td>\n      <td>17</td>\n      <td>27</td>\n      <td>21</td>\n      <td>15</td>\n      <td>12</td>\n      <td>10</td>\n      <td>7</td>\n      <td>1</td>\n      <td>14</td>\n    </tr>\n    <tr>\n      <th>5</th>\n      <td>2003</td>\n      <td>11</td>\n      <td>1458</td>\n      <td>81</td>\n      <td>1186</td>\n      <td>55</td>\n      <td>H</td>\n      <td>0</td>\n      <td>26</td>\n      <td>57</td>\n      <td>...</td>\n      <td>11</td>\n      <td>12</td>\n      <td>17</td>\n      <td>6</td>\n      <td>22</td>\n      <td>8</td>\n      <td>19</td>\n      <td>4</td>\n      <td>3</td>\n      <td>25</td>\n    </tr>\n    <tr>\n      <th>6</th>\n      <td>2003</td>\n      <td>12</td>\n      <td>1161</td>\n      <td>80</td>\n      <td>1236</td>\n      <td>62</td>\n      <td>H</td>\n      <td>0</td>\n      <td>23</td>\n      <td>55</td>\n      <td>...</td>\n      <td>15</td>\n      <td>20</td>\n      <td>28</td>\n      <td>9</td>\n      <td>21</td>\n      <td>11</td>\n      <td>30</td>\n      <td>10</td>\n      <td>4</td>\n      <td>28</td>\n    </tr>\n    <tr>\n      <th>7</th>\n      <td>2003</td>\n      <td>12</td>\n      <td>1186</td>\n      <td>75</td>\n      <td>1457</td>\n      <td>61</td>\n      <td>N</td>\n      <td>0</td>\n      <td>28</td>\n      <td>62</td>\n      <td>...</td>\n      <td>17</td>\n      <td>17</td>\n      <td>23</td>\n      <td>8</td>\n      <td>25</td>\n      <td>10</td>\n      <td>15</td>\n      <td>14</td>\n      <td>8</td>\n      <td>18</td>\n    </tr>\n    <tr>\n      <th>8</th>\n      <td>2003</td>\n      <td>12</td>\n      <td>1194</td>\n      <td>71</td>\n      <td>1156</td>\n      <td>66</td>\n      <td>N</td>\n      <td>0</td>\n      <td>28</td>\n      <td>58</td>\n      <td>...</td>\n      <td>18</td>\n      <td>12</td>\n      <td>27</td>\n      <td>13</td>\n      <td>26</td>\n      <td>13</td>\n      <td>25</td>\n      <td>8</td>\n      <td>2</td>\n      <td>18</td>\n    </tr>\n    <tr>\n      <th>9</th>\n      <td>2003</td>\n      <td>12</td>\n      <td>1458</td>\n      <td>84</td>\n      <td>1296</td>\n      <td>56</td>\n      <td>H</td>\n      <td>0</td>\n      <td>32</td>\n      <td>67</td>\n      <td>...</td>\n      <td>14</td>\n      <td>7</td>\n      <td>12</td>\n      <td>9</td>\n      <td>23</td>\n      <td>10</td>\n      <td>18</td>\n      <td>1</td>\n      <td>3</td>\n      <td>18</td>\n    </tr>\n  </tbody>\n</table>\n<p>10 rows × 34 columns</p>\n</div>",
            "text/plain": "   Season  DayNum  WTeamID  WScore  LTeamID  LScore WLoc  NumOT  WFGM  WFGA  \\\n0    2003      10     1104      68     1328      62    N      0    27    58   \n1    2003      10     1272      70     1393      63    N      0    26    62   \n2    2003      11     1266      73     1437      61    N      0    24    58   \n3    2003      11     1296      56     1457      50    N      0    18    38   \n4    2003      11     1400      77     1208      71    N      0    30    61   \n5    2003      11     1458      81     1186      55    H      0    26    57   \n6    2003      12     1161      80     1236      62    H      0    23    55   \n7    2003      12     1186      75     1457      61    N      0    28    62   \n8    2003      12     1194      71     1156      66    N      0    28    58   \n9    2003      12     1458      84     1296      56    H      0    32    67   \n\n  ...   LFGA3  LFTM  LFTA  LOR  LDR  LAst  LTO  LStl  LBlk  LPF  \n0 ...      10    16    22   10   22     8   18     9     2   20  \n1 ...      24     9    20   20   25     7   12     8     6   16  \n2 ...      26    14    23   31   22     9   12     2     5   23  \n3 ...      22     8    15   17   20     9   19     4     3   23  \n4 ...      16    17    27   21   15    12   10     7     1   14  \n5 ...      11    12    17    6   22     8   19     4     3   25  \n6 ...      15    20    28    9   21    11   30    10     4   28  \n7 ...      17    17    23    8   25    10   15    14     8   18  \n8 ...      18    12    27   13   26    13   25     8     2   18  \n9 ...      14     7    12    9   23    10   18     1     3   18  \n\n[10 rows x 34 columns]"
          },
          "execution_count": 3,
          "metadata": {},
          "output_type": "execute_result"
        }
      ]
    },
    {
      "metadata": {
        "_cell_guid": "0de570fd-4ba9-4a07-9d15-92ad5f7a395f",
        "_uuid": "f96e95bc0ac8c0c3b58f55911cfbe634144e6ec1"
      },
      "cell_type": "markdown",
      "source": "*Step 4: Define Helper Functions*"
    },
    {
      "metadata": {
        "_cell_guid": "6b499ea2-9dc9-48e7-a56c-57144fd213d6",
        "_kg_hide-input": false,
        "_uuid": "0bfd5ba314b4b32c610cfd253ba84d8ebff0d369",
        "collapsed": true,
        "trusted": true
      },
      "cell_type": "code",
      "source": "def get_elo(season, team):\n    try:\n        return team_elos[season][team]\n    except:\n        try:\n            # Get the previous season's ending value.\n            team_elos[season][team] = team_elos[season-1][team]\n            return team_elos[season][team]\n        except:\n            # Get the starter elo.\n            team_elos[season][team] = base_elo\n            return team_elos[season][team]\n\ndef calc_elo(win_team, lose_team, season):\n    winner_rank = get_elo(season, win_team)\n    loser_rank = get_elo(season, lose_team)\n    rank_diff = winner_rank - loser_rank\n    exp = (rank_diff * -1) / 400\n    odds = 1 / (1 + math.pow(10, exp))\n    if winner_rank < 2100:\n        k = 32\n    elif winner_rank >= 2100 and winner_rank < 2400:\n        k = 24\n    else:\n        k = 16\n    new_winner_rank = round(winner_rank + (k * (1 - odds)))\n    new_rank_diff = new_winner_rank - winner_rank\n    new_loser_rank = loser_rank - new_rank_diff\n    return new_winner_rank, new_loser_rank\n\ndef get_stat(season, team, field):\n    try:\n        l = team_stats[season][team][field]\n        return sum(l) / float(len(l))\n    except:\n        return 0\n    \ndef update_stats(season, team, fields):\n    if team not in team_stats[season]:\n        team_stats[season][team] = {}\n    for key, value in fields.items():\n        # Make sure we have the field.\n        if key not in team_stats[season][team]:\n            team_stats[season][team][key] = []\n        if len(team_stats[season][team][key]) >= 9:\n            team_stats[season][team][key].pop()\n        team_stats[season][team][key].append(value)\n        \ndef predict_winner(team_1, team_2, model, season, stat_fields):\n    features = []\n    # Team 1\n    features.append(get_elo(season, team_1))\n    for stat in stat_fields:\n        features.append(get_stat(season, team_1, stat))\n    # Team 2\n    features.append(get_elo(season, team_2))\n    for stat in stat_fields:\n        features.append(get_stat(season, team_2, stat))\n    return model.predict_proba([features])",
      "execution_count": 4,
      "outputs": []
    },
    {
      "metadata": {
        "_cell_guid": "a2b47f1c-6ab3-4da0-9fb7-374c7dbce617",
        "_uuid": "15d542cb957196d76312531a283de70c155eef80"
      },
      "cell_type": "markdown",
      "source": "*Step 5: Feature Selection and Feature Engineering*"
    },
    {
      "metadata": {
        "_cell_guid": "b19c92b7-0a77-45f8-ba04-5fb7833453cb",
        "_uuid": "837df856f2c733b4b9873be9bff4d240468970a8"
      },
      "cell_type": "markdown",
      "source": "Our classifier will make its decision based off of the values for 17 features.  One important feature is a ranking metric called ELO ([Link #1](https://en.wikipedia.org/wiki/Elo_rating_system), [Link #2](https://fivethirtyeight.com/features/how-we-calculate-nba-elo-ratings/)) while the remaining 16 features are traditional basketball metrics as described below:\n\nFeatures:\n\n            wfgm :  field goals made\n            wfga :  field goals attempted\n            wfgm3 :  three pointers made\n            wfga3 :  three pointers attempted\n            wftm :  free throws made\n            wfta :  free throws attempted\n            wor :  offensive rebounds\n            wdr :  defensive rebounds\n            wast :  assists\n            wto :  turnovers\n            wstl :  steals\n            wblk :  blocks\n            wpf :  personal fouls\n\nEngineered Features:\n\n            fgp :  field goal percentage\n            3pp :  three point percentage\n            ftp:  free throw percentage"
    },
    {
      "metadata": {
        "_cell_guid": "3ce5672e-b70e-4bed-ba5f-28c38262bfc9",
        "_kg_hide-input": false,
        "_uuid": "ebcab664079ca040e22e693d0c8e1a135e8109d8",
        "collapsed": true,
        "trusted": true
      },
      "cell_type": "code",
      "source": "def build_season_data(all_data):\n    # Calculate the elo for every game for every team, each season.\n    # Store the elo per season so we can retrieve their end elo\n    # later in order to predict the tournaments without having to\n    # inject the prediction into this loop.\n    for index, row in all_data.iterrows():\n        # Used to skip matchups where we don't have usable stats yet.\n        skip = 0\n        # Get starter or previous elos.\n        team_1_elo = get_elo(row['Season'], row['WTeamID'])\n        team_2_elo = get_elo(row['Season'], row['LTeamID'])\n        # Add 100 to the home team (# taken from Nate Silver analysis.)\n        if row['WLoc'] == 'H':\n            team_1_elo += 100\n        elif row['WLoc'] == 'A':\n            team_2_elo += 100         \n        # We'll create some arrays to use later.\n        team_1_features = [team_1_elo]\n        team_2_features = [team_2_elo]\n        # Build arrays out of the stats we're tracking..\n        for field in stat_fields:\n            team_1_stat = get_stat(row['Season'], row['WTeamID'], field)\n            team_2_stat = get_stat(row['Season'], row['LTeamID'], field)\n            if team_1_stat is not 0 and team_2_stat is not 0:\n                team_1_features.append(team_1_stat)\n                team_2_features.append(team_2_stat)\n            else:\n                skip = 1\n        if skip == 0:  # Make sure we have stats.\n            # Randomly select left and right and 0 or 1 so we can train\n            # for multiple classes.\n            if random.random() > 0.5:\n                X.append(team_1_features + team_2_features)\n                y.append(0)\n            else:\n                X.append(team_2_features + team_1_features)\n                y.append(1)\n        # AFTER we add the current stuff to the prediction, update for\n        # next time. Order here is key so we don't fit on data from the\n        # same game we're trying to predict.\n        if row['WFTA'] != 0 and row['LFTA'] != 0:\n            stat_1_fields = {\n                'score': row['WScore'],\n                'fgp': row['WFGM'] / row['WFGA'] * 100,\n                'fga': row['WFGA'],\n                'fga3': row['WFGA3'],\n                '3pp': row['WFGM3'] / row['WFGA3'] * 100,\n                'ftp': row['WFTM'] / row['WFTA'] * 100,\n                'or': row['WOR'],\n                'dr': row['WDR'],\n                'ast': row['WAst'],\n                'to': row['WTO'],\n                'stl': row['WStl'],\n                'blk': row['WBlk'],\n                'pf': row['WPF']\n            }            \n            stat_2_fields = {\n                'score': row['LScore'],\n                'fgp': row['LFGM'] / row['LFGA'] * 100,\n                'fga': row['LFGA'],\n                'fga3': row['LFGA3'],\n                '3pp': row['LFGM3'] / row['LFGA3'] * 100,\n                'ftp': row['LFTM'] / row['LFTA'] * 100,\n                'or': row['LOR'],\n                'dr': row['LDR'],\n                'ast': row['LAst'],\n                'to': row['LTO'],\n                'stl': row['LStl'],\n                'blk': row['LBlk'],\n                'pf': row['LPF']\n            }\n            update_stats(row['Season'], row['WTeamID'], stat_1_fields)\n            update_stats(row['Season'], row['LTeamID'], stat_2_fields)\n        # Now that we've added them, calc the new elo.\n        new_winner_rank, new_loser_rank = calc_elo(\n            row['WTeamID'], row['LTeamID'], row['Season'])\n        team_elos[row['Season']][row['WTeamID']] = new_winner_rank\n        team_elos[row['Season']][row['LTeamID']] = new_loser_rank\n    return X, y\nX, y = build_season_data(all_data)",
      "execution_count": 5,
      "outputs": []
    },
    {
      "metadata": {
        "_cell_guid": "dae28d54-5777-4878-aa8a-7cb38f71f088",
        "_uuid": "90738cc54b6607cafcb6d17f6fd8dcc549829d39"
      },
      "cell_type": "markdown",
      "source": "*Step 6: Use Logistic Regression To Predict Game Outcomes*"
    },
    {
      "metadata": {
        "_cell_guid": "f2893807-f4e3-4dcd-924e-b5fa36cf5e28",
        "_kg_hide-input": false,
        "_uuid": "88fec4398b9782bc5686aab9f2f3f4f1741efaca",
        "collapsed": true,
        "trusted": true
      },
      "cell_type": "code",
      "source": "model = linear_model.LogisticRegression()\nprint(\"Let's hope to be correct 75% of the time\")\nprint(cross_validation.cross_val_score(model, numpy.array(X), numpy.array(y), cv=10, scoring='accuracy', n_jobs=-1).mean())\nmodel.fit(X, y)\ntourney_teams = []\nfor index, row in seeds.iterrows():\n    if row['Season'] == prediction_year:\n        tourney_teams.append(row['TeamID'])\ntourney_teams.sort()\nfor team_1 in tourney_teams:\n    for team_2 in tourney_teams:\n        if team_1 < team_2:\n            prediction = predict_winner(\n                team_1, team_2, model, prediction_year, stat_fields)\n            label = str(prediction_year) + '_' + str(team_1) + '_' + \\\n                str(team_2)\n            submission_data.append([label, prediction[0][0]])",
      "execution_count": null,
      "outputs": []
    },
    {
      "metadata": {
        "_cell_guid": "f9deb3a0-8d8f-48a9-b33a-abc9604c02fb",
        "_uuid": "a8f69f0e9f630f326660d598804399ee1537dab9"
      },
      "cell_type": "markdown",
      "source": "*Step 7: Submit Results*"
    },
    {
      "metadata": {
        "_cell_guid": "3699e93b-8437-4447-9fe6-a82d5b171039",
        "_kg_hide-input": true,
        "_uuid": "3a04b73801d0f5e2b367af7c3d21061b4f07205c",
        "collapsed": true,
        "scrolled": false,
        "trusted": true
      },
      "cell_type": "code",
      "source": "print(\"Writing %d results.\" % len(submission_data))\nsubmission_data2=pd.DataFrame(submission_data)\nsubmission_data2.to_csv(\"submission1.csv\", index=False)\ndef build_team_dict():\n    team_ids = pd.read_csv(folder + '/mens-machine-learning-competition-2018/Teams.csv')\n    team_id_map = {}\n    for index, row in team_ids.iterrows():\n        team_id_map[row['TeamID']] = row['TeamName']\n    return team_id_map\nteam_id_map = build_team_dict()\nreadable = []\nless_readable = []  # A version that's easy to look up.\nfor pred in submission_data:\n    parts = pred[0].split('_')\n    less_readable.append(\n        [team_id_map[int(parts[1])], team_id_map[int(parts[2])], pred[1]])\n    # Order them properly.\n    if pred[1] > 0.5:\n        winning = int(parts[1])\n        losing = int(parts[2])\n        proba = pred[1]\n    else:\n        winning = int(parts[2])\n        losing = int(parts[1])\n        proba = 1 - pred[1]\n    readable.append(\n        [\n            '%s beats %s: %f' %\n            (team_id_map[winning], team_id_map[losing], proba)\n        ]\n    )\nreadable",
      "execution_count": null,
      "outputs": []
    },
    {
      "metadata": {
        "_cell_guid": "7655a5f5-c9ec-4f0b-a389-cf3d80e87042",
        "_uuid": "bb3f3d79185466ae349bab1bba027a1ff68137db",
        "trusted": true
      },
      "cell_type": "code",
      "source": "Finalpredictions=pd.DataFrame(readable)\nFinalpredictions.to_csv(\"Devan_Finalpredictions.csv\", index=False)",
      "execution_count": 6,
      "outputs": [
        {
          "ename": "NameError",
          "evalue": "name 'readable' is not defined",
          "output_type": "error",
          "traceback": [
            "\u001b[0;31m---------------------------------------------------------------------------\u001b[0m",
            "\u001b[0;31mNameError\u001b[0m                                 Traceback (most recent call last)",
            "\u001b[0;32m<ipython-input-6-d918dc6a16d6>\u001b[0m in \u001b[0;36m<module>\u001b[0;34m()\u001b[0m\n\u001b[0;32m----> 1\u001b[0;31m \u001b[0mFinalpredictions\u001b[0m\u001b[0;34m=\u001b[0m\u001b[0mpd\u001b[0m\u001b[0;34m.\u001b[0m\u001b[0mDataFrame\u001b[0m\u001b[0;34m(\u001b[0m\u001b[0mreadable\u001b[0m\u001b[0;34m)\u001b[0m\u001b[0;34m\u001b[0m\u001b[0m\n\u001b[0m\u001b[1;32m      2\u001b[0m \u001b[0mFinalpredictions\u001b[0m\u001b[0;34m.\u001b[0m\u001b[0mto_csv\u001b[0m\u001b[0;34m(\u001b[0m\u001b[0;34m\"Devan_Finalpredictions.csv\"\u001b[0m\u001b[0;34m,\u001b[0m \u001b[0mindex\u001b[0m\u001b[0;34m=\u001b[0m\u001b[0;32mFalse\u001b[0m\u001b[0;34m)\u001b[0m\u001b[0;34m\u001b[0m\u001b[0m\n",
            "\u001b[0;31mNameError\u001b[0m: name 'readable' is not defined"
          ]
        }
      ]
    }
  ],
  "metadata": {
    "kernelspec": {
      "display_name": "Python 3",
      "language": "python",
      "name": "python3"
    },
    "language_info": {
      "name": "python",
      "version": "3.6.4",
      "mimetype": "text/x-python",
      "codemirror_mode": {
        "name": "ipython",
        "version": 3
      },
      "pygments_lexer": "ipython3",
      "nbconvert_exporter": "python",
      "file_extension": ".py"
    }
  },
  "nbformat": 4,
  "nbformat_minor": 1
}